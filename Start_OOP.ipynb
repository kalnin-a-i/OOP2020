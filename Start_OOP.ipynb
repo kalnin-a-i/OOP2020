{
 "cells": [
  {
   "cell_type": "code",
   "execution_count": 1,
   "metadata": {},
   "outputs": [
    {
     "name": "stdout",
     "output_type": "stream",
     "text": [
      "4.0\n",
      "30\n"
     ]
    }
   ],
   "source": [
    "class Shape:\n",
    "    heigth = 0\n",
    "    larger = 0\n",
    "\n",
    "    def __init__(self, new_heigth, new_larger):\n",
    "        self.heigth = new_heigth\n",
    "        self.larger = new_larger\n",
    "\n",
    "\n",
    "class Triangle(Shape):\n",
    "\n",
    "    def area(self):\n",
    "        return 0.5 * self.heigth * self.larger\n",
    "\n",
    "\n",
    "class Rectangle(Shape):\n",
    "\n",
    "    def area(self):\n",
    "        return self.heigth * self.larger\n",
    "\n",
    "\n",
    "if __name__ == \"__main__\":\n",
    "    a = Triangle(2, 4)\n",
    "    b = Rectangle(5, 6)\n",
    "    print(a.area())\n",
    "    print(b.area())"
   ]
  },
  {
   "cell_type": "code",
   "execution_count": 2,
   "metadata": {},
   "outputs": [
    {
     "name": "stdout",
     "output_type": "stream",
     "text": [
      "hello voi\n",
      "voi hello\n"
     ]
    }
   ],
   "source": [
    "class Mother:\n",
    "    param = \"hello\"\n",
    "\n",
    "    def __init__(self, word):\n",
    "        self.param = word\n",
    "\n",
    "    def __str__(self):\n",
    "        return \"hello \" + self.param\n",
    "\n",
    "\n",
    "class Daugter(Mother):\n",
    "\n",
    "    def __str__(self):\n",
    "        return self.param + \" hello\"\n",
    "\n",
    "\n",
    "if __name__ == \"__main__\":\n",
    "    a = Mother(\"voi\")\n",
    "    b = Daugter(\"voi\")\n",
    "    print(a)\n",
    "    print(b)"
   ]
  },
  {
   "cell_type": "code",
   "execution_count": 3,
   "metadata": {},
   "outputs": [
    {
     "name": "stdout",
     "output_type": "stream",
     "text": [
      "Dolphin : zebra, age 13\n",
      "Dolphin : dolphin, age 14\n"
     ]
    }
   ],
   "source": [
    "class Animal:\n",
    "    age = 0\n",
    "    name = ''\n",
    "\n",
    "    def __init__(self, new_age, new_name):\n",
    "        self.name = new_name\n",
    "        self.age = new_age\n",
    "\n",
    "\n",
    "class Dolphin(Animal):\n",
    "    type = \"Dolphin\"\n",
    "\n",
    "    def __str__(self):\n",
    "        return self.type + \" : \" + self.name + \", age \" + str(self.age)\n",
    "\n",
    "\n",
    "class Zebra(Animal):\n",
    "    type = \"Dolphin\"\n",
    "\n",
    "    def __str__(self):\n",
    "        return self.type + \" : \" + self.name + \", age \" + str(self.age)\n",
    "\n",
    "\n",
    "if __name__ == \"__main__\":\n",
    "    a = Zebra(13, \"zebra\")\n",
    "    b = Dolphin(14, \"dolphin\")\n",
    "    print(a)\n",
    "    print(b)"
   ]
  },
  {
   "cell_type": "code",
   "execution_count": null,
   "metadata": {},
   "outputs": [],
   "source": []
  }
 ],
 "metadata": {
  "kernelspec": {
   "display_name": "Python 3",
   "language": "python",
   "name": "python3"
  },
  "language_info": {
   "codemirror_mode": {
    "name": "ipython",
    "version": 3
   },
   "file_extension": ".py",
   "mimetype": "text/x-python",
   "name": "python",
   "nbconvert_exporter": "python",
   "pygments_lexer": "ipython3",
   "version": "3.7.3"
  }
 },
 "nbformat": 4,
 "nbformat_minor": 2
}
