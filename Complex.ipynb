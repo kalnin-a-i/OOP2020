{
 "cells": [
  {
   "cell_type": "code",
   "execution_count": 1,
   "metadata": {},
   "outputs": [],
   "source": [
    "class Complex:\n",
    "    real = 0\n",
    "    imaginary = 0\n",
    "\n",
    "    def __init__(self, new_real, new_imaginary):\n",
    "        self.real = new_real\n",
    "        self.imaginary = new_imaginary\n",
    "\n",
    "    def __add__(self, other):\n",
    "        return Complex(self.real + other.real, self.imaginary + other.imaginary)\n",
    "\n",
    "    def __sub__(self, other):\n",
    "        return Complex(self.real - other.real, self.imaginary - other.imaginary)\n",
    "\n",
    "    def __mul__(self, other):\n",
    "        return Complex(self.real * other.real - self.imaginary * other.imaginary,\n",
    "                       self.real * other.imaginary + self.imaginary * other.real)\n",
    "\n",
    "    def __truediv__(self, other):\n",
    "        return Complex(self.real / abs(other) ** 2, self.imaginary / abs(other) ** 2) * Complex(other.real, -other.imaginary)\n",
    "\n",
    "    def __abs__(self):\n",
    "        return (self.real ** 2 + self.imaginary ** 2) ** 0.5\n",
    "\n",
    "    def __str__(self):\n",
    "        return str(self.real) + \"+\" + str(self.imaginary) + \"i\"\n"
   ]
  },
  {
   "cell_type": "code",
   "execution_count": 2,
   "metadata": {},
   "outputs": [
    {
     "name": "stdout",
     "output_type": "stream",
     "text": [
      "3+4i\n",
      "5+6i\n",
      "8+10i\n",
      "-2+-2i\n",
      "5.0\n",
      "0.639344262295082+0.03278688524590162i\n",
      "-9+38i\n"
     ]
    }
   ],
   "source": [
    "if __name__ == \"__main__\":\n",
    "    a = Complex(3, 4)\n",
    "    b = Complex(5, 6)\n",
    "    print(a)\n",
    "    print(b)\n",
    "    print(a + b)\n",
    "    print(a - b)\n",
    "    print(abs(a))\n",
    "    print(a/b)\n",
    "    print(a * b)\n"
   ]
  },
  {
   "cell_type": "code",
   "execution_count": null,
   "metadata": {},
   "outputs": [],
   "source": []
  }
 ],
 "metadata": {
  "kernelspec": {
   "display_name": "Python 3",
   "language": "python",
   "name": "python3"
  },
  "language_info": {
   "codemirror_mode": {
    "name": "ipython",
    "version": 3
   },
   "file_extension": ".py",
   "mimetype": "text/x-python",
   "name": "python",
   "nbconvert_exporter": "python",
   "pygments_lexer": "ipython3",
   "version": "3.7.3"
  }
 },
 "nbformat": 4,
 "nbformat_minor": 2
}
