{
 "cells": [
  {
   "cell_type": "code",
   "execution_count": 6,
   "metadata": {},
   "outputs": [],
   "source": [
    "import random\n",
    "\n",
    "\n",
    "class ExcessSymbolError(Exception):\n",
    "    pass"
   ]
  },
  {
   "cell_type": "code",
   "execution_count": 7,
   "metadata": {},
   "outputs": [],
   "source": [
    "class NuclearAcid:\n",
    "    def __init__(self, chain: str):\n",
    "        self.bases_sequence = chain\n",
    "\n",
    "    def __add__(self, other):\n",
    "        return NuclearAcid(self.bases_sequence + other.bases_sequence)\n",
    "\n",
    "    def __mul__(self, other):  # перемножение\n",
    "        first_length, second_length = len(self.bases_sequence), len(other.bases_sequence)\n",
    "        if first_length > second_length:\n",
    "            tail = self.bases_sequence[-first_length + second_length:]\n",
    "        else:\n",
    "            tail = other.bases_sequence[-second_length + first_length:]\n",
    "        return NuclearAcid(''.join(\n",
    "            [random.choice([symbol1, symbol2]) for symbol1, symbol2 in\n",
    "             zip(self.bases_sequence, other.bases_sequence)]) + tail)\n",
    "\n",
    "    def __repr__(self):\n",
    "        return str(self.bases_sequence)\n",
    "\n",
    "    def __getitem__(self, item):  # поддерживает индексацию\n",
    "        return self.bases_sequence[item]\n",
    "\n",
    "    def __eq__(self, other):  # проверка на равные\n",
    "        return self.bases_sequence == other.bases_sequence\n",
    "\n",
    "    @property\n",
    "    def complementedSequence(self, __complemented_bases={'A': 'T', 'T': 'A', 'G': 'C', 'C': 'G'}):\n",
    "        return NuclearAcid(''.join([__complemented_bases[symbol] for symbol in self.bases_sequence]))\n"
   ]
  },
  {
   "cell_type": "code",
   "execution_count": 8,
   "metadata": {},
   "outputs": [],
   "source": [
    "class DNA(NuclearAcid):\n",
    "    def __init__(self, chain, __set_of_bases={'A', 'T', 'G',\n",
    "                                              'C'}):\n",
    "        if not set(chain).issubset(__set_of_bases):\n",
    "            raise ExcessSymbolError(\n",
    "                'В введенной строке есть символы, не содержащиеся в ДНК')\n",
    "\n",
    "        self.bases_sequence = NuclearAcid(chain)\n",
    "        self.complemented_bases_sequence = NuclearAcid(chain).complementedSequence\n",
    "\n",
    "    def __repr__(self):\n",
    "        return str([self.bases_sequence, self.complemented_bases_sequence])\n",
    "\n",
    "    def __getitem__(self, item):  # поддерживает индексацию\n",
    "        return self.bases_sequence[item], self.complemented_bases_sequence[item]\n",
    "\n",
    "    def __add__(self, other):\n",
    "        return DNA(self.bases_sequence + other.bases_sequence)\n",
    "\n",
    "    def __mul__(self, other):\n",
    "        return DNA(self.bases_sequence * other.bases_sequence)\n",
    "\n",
    "    def __eq__(self, other):  # проверка на равенство\n",
    "        return (self.bases_sequence == other.bases_sequence\n",
    "                or self.bases_sequence == other.complemented_bases_sequence)\n"
   ]
  },
  {
   "cell_type": "code",
   "execution_count": 9,
   "metadata": {},
   "outputs": [],
   "source": [
    "class RNA(NuclearAcid):\n",
    "\n",
    "    def __init__(self, chain, __set_of_bases={'A', 'U', 'G', 'C'},\n",
    "                 ):\n",
    "        if not set(chain).issubset(__set_of_bases):\n",
    "            raise ExcessSymbolError(\n",
    "                'В введенной строке есть символы, не содержащиеся в ДНК')\n",
    "\n",
    "        NuclearAcid.__init__(self, chain)\n",
    "\n",
    "    @property\n",
    "    def getComplementaryDNA(self):  # строит комплементарную ДНК\n",
    "        complemented_bases = {'A': 'T', 'U': 'A', 'G': 'C', 'C': 'G'}\n",
    "        return DNA(''.join([complemented_bases[symbol] for symbol in self.bases_sequence]\n",
    "                           )\n",
    "                   )"
   ]
  },
  {
   "cell_type": "code",
   "execution_count": null,
   "metadata": {},
   "outputs": [],
   "source": []
  }
 ],
 "metadata": {
  "kernelspec": {
   "display_name": "Python 3",
   "language": "python",
   "name": "python3"
  },
  "language_info": {
   "codemirror_mode": {
    "name": "ipython",
    "version": 3
   },
   "file_extension": ".py",
   "mimetype": "text/x-python",
   "name": "python",
   "nbconvert_exporter": "python",
   "pygments_lexer": "ipython3",
   "version": "3.7.3"
  }
 },
 "nbformat": 4,
 "nbformat_minor": 2
}
