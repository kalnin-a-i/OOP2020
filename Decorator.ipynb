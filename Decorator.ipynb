{
 "cells": [
  {
   "cell_type": "markdown",
   "metadata": {},
   "source": [
    "### Упраженение 4"
   ]
  },
  {
   "cell_type": "code",
   "execution_count": 26,
   "metadata": {},
   "outputs": [],
   "source": [
    "import inspect\n",
    "import datetime\n",
    "\n",
    "path = 'C:/Users/USER/OOP2020/decorator.txt'\n",
    "def decorator(path):\n",
    "    def tsfunc(func):\n",
    "        def wrappedFunc(*args, **kwargs):\n",
    "            call_time = datetime.datetime.now()\n",
    "            result = func(*args, **kwargs)\n",
    "            if result is None:\n",
    "                result = '-'\n",
    "            end_time = datetime.datetime.now()\n",
    "            args = inspect.getfullargspec(func)\n",
    "            with open(path, 'w') as file:\n",
    "                file.write('Время вызова функции: {} \\nОтвет ret: {}\\nАргументы: {} \\nВремя завершения работы функции: {} \\nВРемя работы функции: {}'.format(call_time, result, args[0], end_time, end_time - call_time))\n",
    "        return wrappedFunc  \n",
    "    return tsfunc\n",
    "\n",
    "@decorator(path)\n",
    "def f(a, b):\n",
    "    return a**2, b**2, a*b \n",
    "f(100, 42)"
   ]
  },
  {
   "cell_type": "code",
   "execution_count": null,
   "metadata": {},
   "outputs": [],
   "source": []
  }
 ],
 "metadata": {
  "kernelspec": {
   "display_name": "Python 3",
   "language": "python",
   "name": "python3"
  },
  "language_info": {
   "codemirror_mode": {
    "name": "ipython",
    "version": 3
   },
   "file_extension": ".py",
   "mimetype": "text/x-python",
   "name": "python",
   "nbconvert_exporter": "python",
   "pygments_lexer": "ipython3",
   "version": "3.7.3"
  }
 },
 "nbformat": 4,
 "nbformat_minor": 2
}
