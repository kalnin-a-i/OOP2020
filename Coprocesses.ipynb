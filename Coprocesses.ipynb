{
 "cells": [
  {
   "cell_type": "markdown",
   "metadata": {},
   "source": [
    "### Упражнение №4"
   ]
  },
  {
   "cell_type": "code",
   "execution_count": 3,
   "metadata": {},
   "outputs": [],
   "source": [
    "import numpy as np"
   ]
  },
  {
   "cell_type": "code",
   "execution_count": 5,
   "metadata": {},
   "outputs": [
    {
     "name": "stdout",
     "output_type": "stream",
     "text": [
      "2\n",
      "Среднее:  2.0\n",
      "Количество  данных:  1\n",
      "Дисперсия:  0.0\n",
      "3\n",
      "Среднее:  2.5\n",
      "Количество  данных:  2\n",
      "Дисперсия:  0.25\n",
      "4\n",
      "Среднее:  3.0\n",
      "Количество  данных:  3\n",
      "Дисперсия:  0.6666666666666666\n",
      "5\n",
      "Среднее:  3.5\n",
      "Количество  данных:  4\n",
      "Дисперсия:  1.25\n",
      "-\n"
     ]
    }
   ],
   "source": [
    "def num_char(x):\n",
    "    average = 0\n",
    "    n = 0\n",
    "    array = []\n",
    "    while True:\n",
    "        x = yield x\n",
    "        n += 1\n",
    "        array.append(x)\n",
    "        dispersion = np.var(array)\n",
    "        average = (average * (n - 1) + x) / n\n",
    "        print('Среднее: ', average)\n",
    "        print('Количество  данных: ', n)\n",
    "        print('Дисперсия: ', dispersion)\n",
    "\n",
    "x = input()\n",
    "coroutine = num_char(x)\n",
    "next(coroutine)\n",
    "while x != '-':\n",
    "    coroutine.send(int(x))\n",
    "    x = input()"
   ]
  },
  {
   "cell_type": "markdown",
   "metadata": {},
   "source": []
  }
 ],
 "metadata": {
  "kernelspec": {
   "display_name": "Python 3",
   "language": "python",
   "name": "python3"
  }
 },
 "nbformat": 4,
 "nbformat_minor": 2
}
